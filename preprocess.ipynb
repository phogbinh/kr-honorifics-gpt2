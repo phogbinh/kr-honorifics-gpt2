{
 "cells": [
  {
   "cell_type": "markdown",
   "id": "0b126b09",
   "metadata": {},
   "source": [
    "# Set parameters"
   ]
  },
  {
   "cell_type": "code",
   "execution_count": 1,
   "id": "cd6d9977",
   "metadata": {},
   "outputs": [],
   "source": [
    "KR_DIR = \"/home/bill/Desktop/kr/\""
   ]
  },
  {
   "cell_type": "markdown",
   "id": "fd69f482",
   "metadata": {},
   "source": [
    "# Preprocess train and evaluation data"
   ]
  },
  {
   "cell_type": "code",
   "execution_count": 2,
   "id": "7ddf79e2",
   "metadata": {},
   "outputs": [],
   "source": [
    "import pandas as pd\n",
    "\n",
    "def preprocess(input_filepath):\n",
    "  df = pd.read_csv(KR_DIR + input_filepath)\n",
    "  sents = pd.concat([df[\"Q\"], df[\"A\"]], ignore_index=True)\n",
    "  return sents\n",
    "\n",
    "train_eval_sents = pd.concat([preprocess(\"data/style_train.txt\"), preprocess(\"data/style_eval.txt\")])\n",
    "train_eval_sents.to_csv(\"train_eval.csv\", header=False, index=False)"
   ]
  },
  {
   "cell_type": "code",
   "execution_count": 3,
   "id": "696a38d9",
   "metadata": {},
   "outputs": [
    {
     "data": {
      "text/plain": [
       "0            내일 반품할 노트북이 삼성인지 엘지인지 알려주세요\n",
       "1         내일 삼성노트북을 반품할거에요 엘지노트북을 반품할거에요\n",
       "2    내일 삼성노트북이랑 엘지노트북 중에 어떤 노트북을 반품하는거에요\n",
       "3     혹시 내일 반품할 노트북이 삼성과 엘지 중에 무엇인지 아시나요\n",
       "4    내일 노트북 반품이 삼성노트북인지 엘지노트북인지 확인부탁드립니다\n",
       "dtype: object"
      ]
     },
     "execution_count": 3,
     "metadata": {},
     "output_type": "execute_result"
    }
   ],
   "source": [
    "train_eval_sents.iloc[0:5]"
   ]
  },
  {
   "cell_type": "code",
   "execution_count": 4,
   "id": "5a8ef2bb",
   "metadata": {},
   "outputs": [
    {
     "data": {
      "text/plain": [
       "25200"
      ]
     },
     "execution_count": 4,
     "metadata": {},
     "output_type": "execute_result"
    }
   ],
   "source": [
    "len(train_eval_sents)"
   ]
  },
  {
   "cell_type": "markdown",
   "id": "ba915666",
   "metadata": {},
   "source": [
    "# Preprocess test data"
   ]
  },
  {
   "cell_type": "code",
   "execution_count": 5,
   "id": "84ffdc24",
   "metadata": {},
   "outputs": [],
   "source": [
    "test_sents = preprocess(\"data/style_test.txt\")\n",
    "test_sents.to_csv(\"test.csv\", header=False, index=False)"
   ]
  },
  {
   "cell_type": "code",
   "execution_count": 6,
   "id": "aba679b3",
   "metadata": {},
   "outputs": [
    {
     "data": {
      "text/plain": [
       "0    삼성과 엘지 중에 에어컨이 더 저렴한 곳 확인 부탁드립니다\n",
       "1       에어컨이 더 저렴한 곳은 어디인가요 삼성과 엘지 중에\n",
       "2     삼성 에어컨이 더 저렴한가요 엘지 에어컨이 더 저렴한가요\n",
       "3           에어컨이 더 저렴한 곳은 삼성인가요 엘지인가요\n",
       "4        삼성과 엘지 중에 에어컨이 더 저렴한 곳을 아십니까\n",
       "dtype: object"
      ]
     },
     "execution_count": 6,
     "metadata": {},
     "output_type": "execute_result"
    }
   ],
   "source": [
    "test_sents.iloc[0:5]"
   ]
  },
  {
   "cell_type": "code",
   "execution_count": 7,
   "id": "accb1ae8",
   "metadata": {},
   "outputs": [
    {
     "data": {
      "text/plain": [
       "4800"
      ]
     },
     "execution_count": 7,
     "metadata": {},
     "output_type": "execute_result"
    }
   ],
   "source": [
    "len(test_sents)"
   ]
  }
 ],
 "metadata": {
  "kernelspec": {
   "display_name": "Python 3 (ipykernel)",
   "language": "python",
   "name": "python3"
  },
  "language_info": {
   "codemirror_mode": {
    "name": "ipython",
    "version": 3
   },
   "file_extension": ".py",
   "mimetype": "text/x-python",
   "name": "python",
   "nbconvert_exporter": "python",
   "pygments_lexer": "ipython3",
   "version": "3.8.15"
  }
 },
 "nbformat": 4,
 "nbformat_minor": 5
}
